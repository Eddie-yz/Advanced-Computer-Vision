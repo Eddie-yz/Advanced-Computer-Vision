{
 "cells": [
  {
   "cell_type": "code",
   "execution_count": null,
   "metadata": {},
   "outputs": [],
   "source": [
    "import numpy as np\n",
    "import matplotlib.pyplot as plt\n",
    "\n",
    "def grayscale(img):\n",
    "    '''\n",
    "    Converts RGB image to Grayscale\n",
    "    '''\n",
    "    gray=np.zeros((img.shape[0],img.shape[1]))\n",
    "    gray=img[:,:,0]*0.2989+img[:,:,1]*0.5870+img[:,:,2]*0.1140\n",
    "    return gray\n",
    "\n",
    "def plot_optical_flow(img,U,V,titleStr):\n",
    "    '''\n",
    "    Plots optical flow given U,V and one of the images\n",
    "    '''\n",
    "    \n",
    "    # Change t if required, affects the number of arrows\n",
    "    # t should be between 1 and min(U.shape[0],U.shape[1])\n",
    "    t = 10 \n",
    "    \n",
    "    # Subsample U and V to get visually pleasing output\n",
    "    U1 = U[::t,::t]\n",
    "    V1 = V[::t,::t]\n",
    "    \n",
    "    # Create meshgrid of subsampled coordinates\n",
    "    r, c = img.shape[0],img.shape[1]\n",
    "    cols,rows = np.meshgrid(np.linspace(0,c-1,c), np.linspace(0,r-1,r))\n",
    "    cols = cols[::t,::t]\n",
    "    rows = rows[::t,::t]\n",
    "    \n",
    "    # Plot optical flow\n",
    "    plt.figure(figsize=(10,10))\n",
    "    plt.imshow(img)\n",
    "    plt.quiver(cols,rows,U1,V1)\n",
    "    plt.title(titleStr)\n",
    "    plt.show()\n",
    "\n",
    "\n",
    "    \n",
    "def LucasKanadeOpticalFlow(im1,im2,window):\n",
    "    '''\n",
    "    Implement the Lucas-Kanade algorithm\n",
    "    Inputs: the two images, window size\n",
    "    Returns: u, v - the optical flow\n",
    "    '''\n",
    "    \n",
    "    \"\"\" ==========\n",
    "    YOUR CODE HERE\n",
    "    ========== \"\"\"\n",
    "    \n",
    "    return u, v"
   ]
  },
  {
   "cell_type": "code",
   "execution_count": null,
   "metadata": {},
   "outputs": [],
   "source": [
    "images = []\n",
    "for i in range(1,5):\n",
    "    images.append(plt.imread('OpticalFlowImages/im'+str(i)+'.png')[:,:288,:])\n",
    "# each image after converting to gray scale is of size -> 400x288\n",
    "\n",
    "window = 13\n",
    "U, V = LucasKanadeOpticalFlow(grayscale(images[0]),grayscale(images[1]), window)\n",
    "plot_optical_flow(images[0], U, V, 'image2 = ' + str(1) + ', window = ' + str(window))\n",
    "\n",
    "window = 13\n",
    "U, V = LucasKanadeOpticalFlow(grayscale(images[0]),grayscale(images[2]), window)\n",
    "plot_optical_flow(images[0], U, V, 'image2 = ' + str(2) + ', window = ' + str(window))\n",
    "\n",
    "window = 13\n",
    "U, V = LucasKanadeOpticalFlow(grayscale(images[0]),grayscale(images[3]), window)\n",
    "plot_optical_flow(images[0], U, V, 'image2 = ' + str(3) + ', window = ' + str(window))"
   ]
  }
 ],
 "metadata": {
  "kernelspec": {
   "display_name": "Python 3",
   "language": "python",
   "name": "python3"
  },
  "language_info": {
   "codemirror_mode": {
    "name": "ipython",
    "version": 3
   },
   "file_extension": ".py",
   "mimetype": "text/x-python",
   "name": "python",
   "nbconvert_exporter": "python",
   "pygments_lexer": "ipython3",
   "version": "3.6.8"
  }
 },
 "nbformat": 4,
 "nbformat_minor": 4
}
